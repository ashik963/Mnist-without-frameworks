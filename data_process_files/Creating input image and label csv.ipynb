{
 "cells": [
  {
   "cell_type": "code",
   "execution_count": 27,
   "metadata": {},
   "outputs": [],
   "source": [
    "import os,struct\n",
    "from array import array as pyarray\n",
    "import pandas as pd\n",
    "import numpy as np\n"
   ]
  },
  {
   "cell_type": "code",
   "execution_count": 28,
   "metadata": {},
   "outputs": [],
   "source": [
    "def ExtractingData(images_file,label_file):\n",
    "    img_data = images_file\n",
    "    lbl_data = label_file\n",
    "\n",
    "    file_img = open(img_data,'rb')\n",
    "    magic_nr, size,rows,cols = struct.unpack(\">IIII\",file_img.read(16))\n",
    "    img = pyarray(\"b\",file_img.read())\n",
    "    file_img.close()\n",
    "\n",
    "\n",
    "    file_lbl = open(lbl_data,'rb')\n",
    "    magic_nr,size = struct.unpack(\">II\",file_lbl.read(8))\n",
    "    lbl = pyarray(\"B\",file_lbl.read())\n",
    "    file_lbl.close()\n",
    "\n",
    "    digits = np.arange(10)\n",
    "\n",
    "    ind = [ k for k in range(size) if lbl[k] in digits ]\n",
    "    N = len(ind)\n",
    "\n",
    "    images = np.zeros((N,rows*cols),dtype=np.uint8)\n",
    "    labels = np.zeros((N,1),dtype=np.uint8)\n",
    "\n",
    "    for i in range(len(ind)):\n",
    "        images[i] = np.array(img[ind[i]*rows*cols : (ind[i]+1)*rows*cols])\n",
    "        labels[i] = lbl[ind[i]]\n",
    "\n",
    "    return images,labels"
   ]
  },
  {
   "cell_type": "code",
   "execution_count": 29,
   "metadata": {},
   "outputs": [],
   "source": [
    "train_images,train_labels=ExtractingData('train-images.idx3-ubyte','train-labels.idx1-ubyte')\n",
    "test_images,test_labels=ExtractingData('t10k-images.idx3-ubyte','t10k-labels.idx1-ubyte')"
   ]
  },
  {
   "cell_type": "code",
   "execution_count": null,
   "metadata": {},
   "outputs": [],
   "source": [
    "## converting image and label array into dataframe and then csv\n",
    "\n",
    "pd.DataFrame(train_images).to_csv('train_image.csv',index=False)\n",
    "pd.DataFrame(test_images).to_csv('test_image.csv',index=False)\n",
    "pd.DataFrame(train_labels).to_csv('train_label.csv',index=False)\n",
    "pd.DataFrame(test_labels).to_csv('test_label.csv',index=False)"
   ]
  },
  {
   "cell_type": "code",
   "execution_count": null,
   "metadata": {},
   "outputs": [],
   "source": []
  }
 ],
 "metadata": {
  "kernelspec": {
   "display_name": "Python 3",
   "language": "python",
   "name": "python3"
  },
  "language_info": {
   "codemirror_mode": {
    "name": "ipython",
    "version": 3
   },
   "file_extension": ".py",
   "mimetype": "text/x-python",
   "name": "python",
   "nbconvert_exporter": "python",
   "pygments_lexer": "ipython3",
   "version": "3.6.5"
  }
 },
 "nbformat": 4,
 "nbformat_minor": 2
}
